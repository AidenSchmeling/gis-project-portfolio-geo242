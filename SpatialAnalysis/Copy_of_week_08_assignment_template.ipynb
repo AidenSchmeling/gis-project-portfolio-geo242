{
  "nbformat": 4,
  "nbformat_minor": 0,
  "metadata": {
    "colab": {
      "provenance": [],
      "include_colab_link": true
    },
    "kernelspec": {
      "name": "python3",
      "display_name": "Python 3"
    },
    "language_info": {
      "name": "python"
    }
  },
  "cells": [
    {
      "cell_type": "markdown",
      "metadata": {
        "id": "view-in-github",
        "colab_type": "text"
      },
      "source": [
        "<a href=\"https://colab.research.google.com/github/AidenSchmeling/gis-project-portfolio-geo242/blob/main/SpatialAnalysis/Copy_of_week_08_assignment_template.ipynb\" target=\"_parent\"><img src=\"https://colab.research.google.com/assets/colab-badge.svg\" alt=\"Open In Colab\"/></a>"
      ]
    },
    {
      "cell_type": "markdown",
      "source": [
        "# **Identify a potential raster dataset for group project**"
      ],
      "metadata": {
        "id": "C0ymCPR5aSHN"
      }
    },
    {
      "cell_type": "markdown",
      "source": [
        "🚀 Created by Group 3\n",
        "\n",
        "Members: Madalyn Couch, Aiden Schmeling, Lauryn Lammers\n",
        "\n",
        "10/16/2024"
      ],
      "metadata": {
        "id": "Pt_OREXFPvkr"
      }
    },
    {
      "cell_type": "markdown",
      "source": [
        "## **Get ready to start**\n",
        "\n",
        "- Click **`File/Save a copy in Drive`** to save a copy of this notebook to my own Google Drive"
      ],
      "metadata": {
        "id": "CMQN_pgaHVLO"
      }
    },
    {
      "cell_type": "markdown",
      "source": [
        "## **Overview**\n",
        "\n",
        "This notebook will be completed as a group assignment\n",
        "\n",
        "- Notes for your first group meeting\n",
        "- Identify at least one raster dataset that can be used in your group project\n",
        "  - Revisit our [project topic pool](https://colab.research.google.com/drive/1aLwfdEKYufJ5s0H8CxbtKfEopYriQGIi?usp=drive_link) if necessary"
      ],
      "metadata": {
        "id": "6tKmlbnzny_I"
      }
    },
    {
      "cell_type": "markdown",
      "source": [
        "## **Group meeting notes**"
      ],
      "metadata": {
        "id": "xlkhClF-OhVT"
      }
    },
    {
      "cell_type": "markdown",
      "source": [
        "### **Group member roles**\n",
        "\n",
        "*Elect a group leader if you don't have one*\n",
        "\n",
        "- Group leader\n",
        "  - Aiden Schmeling\n",
        "\n",
        "- Group members\n",
        "  - Madalyn Couch\n",
        "  - Lauryn Lammers\n",
        "\n"
      ],
      "metadata": {
        "id": "gHJCvrMgRBcX"
      }
    },
    {
      "cell_type": "markdown",
      "source": [
        "### **Motivation of selecting the topic**\n",
        "\n",
        " - The likelihood of owning a home in life\n",
        " - Most interesting of the options\n",
        " - Involves data of the geographic and demographic shift which is a significant piece to understanding todays world\n",
        " - more spatially involved than demographically involved\n",
        " -"
      ],
      "metadata": {
        "id": "Z0fMTyixQEAU"
      }
    },
    {
      "cell_type": "markdown",
      "source": [
        "### **Current thoughts on data selection and acquisition**\n",
        "\n",
        " - U.S. Census data presented in the documentation on U.S. home ownership and rent\n",
        " - ODOT for vector datasets on locations, sublocations, and geographic regions\n",
        " - Not expected to need much data input beyond recommended Census data on ownership and renting in census tracts for data analysis.\n"
      ],
      "metadata": {
        "id": "PAbFQQaVQRg0"
      }
    },
    {
      "cell_type": "markdown",
      "source": [
        "### **Visualization plan**\n",
        "* Map of Ohio showing the trends in ownership rates broken down by census tract\n",
        "* Visualization example showing the whole U.S., we will only be depicting Ohio.\n",
        "<img src=\"https://www.census.gov/content/dam/Census/library/visualizations/2021/comm/changing-homeownership-rates.jpg\" alt=\"Latitude lines\" width=\"70%\">\n",
        "\n",
        "- Three maps in expected outcome will also include data on age and income.\n",
        "- Use split map design or arcpro style scroll to show variation between 2010 and 2020\n",
        "- A technical 1 page report to show demographic changes is also mentioned in expteced output.\n",
        "![Possible Visual Report](https://drive.google.com/uc?export=view&id=1QPBW74AbtZ6DmDTLyE-xI580DaxoFlYF)"
      ],
      "metadata": {
        "id": "3CrZjW0XQjZl"
      }
    },
    {
      "cell_type": "markdown",
      "source": [
        "### **Additional thoughts**\n",
        "\n",
        "- Need to acknowledge that the land use raster sets are from 2011 and 2021, not 2010 and 2020\n"
      ],
      "metadata": {
        "id": "3UuEZHf4Q7hO"
      }
    },
    {
      "cell_type": "markdown",
      "source": [
        "## **Raster data for group project**\n",
        "\n",
        "- **Provide the name and the link to the raster dataset you identified for your group project**\n",
        "  - You can begin with the following portals\n",
        "    - [ArcGIS Living Atlas of the World](https://livingatlas.arcgis.com/en/home/)\n",
        "    - [NASAS WorldView](https://worldview.earthdata.nasa.gov/)\n",
        "      - Click **Add Layers** to identify datasets for different subjects (including **human dimensions**)\n",
        "    - [NASA Socioeconomic Data and Applications Center (SEDAC)](https://sedac.ciesin.columbia.edu/)\n",
        "\n",
        "| Name of Dataset | Dataset Producer | Link to Dataset |\n",
        "| ---------------- | ---------------- | ---------------- |\n",
        "| National Land Cover Database | MRLC | [MRLC](https://www.mrlc.gov/data) |"
      ],
      "metadata": {
        "id": "d8B4v6BIJYRw"
      }
    },
    {
      "cell_type": "markdown",
      "source": [
        "- **Provide the specifics of the raster dataset you identified**\n",
        "\n",
        "| Spatial Resolution | Temporal Resolution* | Spatial Extent |\n",
        "| ---------------- | ---------------- | ---------------- |\n",
        "| 30 x 30 meter | Multi-year basis (2-3 yrs) | WGS 84 |\n",
        "\n",
        "*Temporal resolution of data: Wheather the data is acquired on a daily, monthly, yearly, or multi-year basis*"
      ],
      "metadata": {
        "id": "xuG1CFbBlawa"
      }
    },
    {
      "cell_type": "markdown",
      "source": [
        "- **Why is the dataset you selected an appropriate choice for your current project?** Explain from the perspectives of the content of the data, spatial resolution, temporal resolution (daily, monthly, yearly acquisition), and/or spatial extent covered.\n",
        "\n",
        "- This dataset presents the land use land cover for the continguous united states, for our project we need only focus on data within Ohio. Understanding land use and land use changes plays a significant role in how we percieve home ownership and renting. For example, if an area goes from low density urban to high density urban we would naturally expect there to be more renting than owning due to the typical makeup of high density urban environments. The same is true for regions that experience change from rural, or non-populated regions to sub-urban area, these new constructions are more likely to be owned than rented.\n",
        "\n",
        "*Example: I selected demographics from the 2010 and 2020 U.S. Census data to analyze the population change pattern of Ohio at a census tract level because both datasets include the count of population needed to answer the research question of this project. Plus, these metrics are collected at census-tract level to satisfy the spatial resolution needed for this project. Furthermore, the dataset is a decennial product, allowing the comparison of population across a decade.*"
      ],
      "metadata": {
        "id": "SKZskx02mMvl"
      }
    },
    {
      "cell_type": "markdown",
      "source": [
        "## **Save and share this notebook**\n",
        "\n",
        "- Make this notebook viewable by anyone with the link and submit the link to Canvas as Week 8 assignment\n",
        "- **This is a group assignment. All members will receive the same score. Only one submission is needed.**"
      ],
      "metadata": {
        "id": "kkgukjDcXsqC"
      }
    },
    {
      "cell_type": "markdown",
      "source": [
        "## **Reference**\n",
        "\n",
        "- [Markdown cheat sheet](https://www.markdownguide.org/cheat-sheet/)\n",
        "- [Insert other references]"
      ],
      "metadata": {
        "id": "fvMbEX89YLeY"
      }
    }
  ]
}