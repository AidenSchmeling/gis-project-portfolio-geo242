{
  "nbformat": 4,
  "nbformat_minor": 0,
  "metadata": {
    "colab": {
      "provenance": [],
      "include_colab_link": true
    },
    "kernelspec": {
      "name": "python3",
      "display_name": "Python 3"
    },
    "language_info": {
      "name": "python"
    }
  },
  "cells": [
    {
      "cell_type": "markdown",
      "metadata": {
        "id": "view-in-github",
        "colab_type": "text"
      },
      "source": [
        "<a href=\"https://colab.research.google.com/github/AidenSchmeling/gis-project-portfolio-geo242/blob/main/3DPrinting/Copy_of_week_11_assignment_template.ipynb\" target=\"_parent\"><img src=\"https://colab.research.google.com/assets/colab-badge.svg\" alt=\"Open In Colab\"/></a>"
      ]
    },
    {
      "cell_type": "markdown",
      "source": [
        "# **The World in 3D**"
      ],
      "metadata": {
        "id": "C0ymCPR5aSHN"
      }
    },
    {
      "cell_type": "markdown",
      "source": [
        "\n",
        "\n",
        "🚀 Created by Aiden Schmeling, Lauryn Lammers, and Madalyn Couch\n",
        "\n",
        "11/06/2024"
      ],
      "metadata": {
        "id": "Pt_OREXFPvkr"
      }
    },
    {
      "cell_type": "markdown",
      "source": [
        "## **Get ready to start**\n",
        "\n",
        "- Click **`File/Save a copy in Drive`** to save a copy of this notebook to my own Google Drive"
      ],
      "metadata": {
        "id": "CMQN_pgaHVLO"
      }
    },
    {
      "cell_type": "markdown",
      "source": [
        "## **Overview**\n",
        "\n",
        "In this assignment, we used data from [OpenLandform Catalog](https://opentopography.org/learn/lidarlandforms), a service from [OpenTopography](https://opentopography.org/) to obtain data for signature landform processes and then produced models for 3D printing.\n",
        "\n",
        "We used 3D printing service available from Miami University Makerspace in King Library to produce our model.\n",
        "\n",
        "This notebook contains three parts:\n",
        "\n",
        "- Describe the area and geomorphological process our group decides to 3D print\n",
        "- Describe how we converted DEM to a `.stl` file needed for 3D printing\n",
        "  - Compare a ready-to-use `.stl` file available from [OpenLandform Catalog](https://opentopography.org/learn/lidarlandforms) and the one our group made in an [online `stl` file viewer](https://www.viewstl.com/)\n",
        "- Show a picture of our final 3D printing work as our result\n",
        "  - This 3D printed model will be shown during GEO 242A class on 11/10"
      ],
      "metadata": {
        "id": "6tKmlbnzny_I"
      }
    },
    {
      "cell_type": "markdown",
      "source": [
        "## **Our area and process of interest**\n"
      ],
      "metadata": {
        "id": "WVs4J1jQbESU"
      }
    },
    {
      "cell_type": "markdown",
      "source": [
        "- Terrestrial Impact Crater\n",
        "  - This large crater is located in northeastern Arizona, where nearly 50,000 years ago a 50m meteor struck the planet.\n",
        "  - It is 1,200m in diameter and 170m deep.\n",
        "\n",
        "- Methodology to print\n",
        "  - Download DEM\n",
        "  - Convert DEM to stl\n",
        "  - Attach stl to 3D printer"
      ],
      "metadata": {
        "id": "bXB_pi-aPTOT"
      }
    },
    {
      "cell_type": "markdown",
      "source": [
        "```markdown\n",
        "[Insert the picture from OpenLandform Catalog to showcase the landform or process for 3D printing]\n",
        "\n",
        "```markdown\n",
        "\n",
        "Insert the map following the example below\n",
        "\n",
        "![landform](https://object.cloud.sdsc.edu/v1/AUTH_opentopography/www/education/OpenLandform/ShutterRidge_vizDEM.png)\n",
        "```\n",
        "\n",
        "![landform](https://object.cloud.sdsc.edu/v1/AUTH_opentopography/www/education/OpenLandform/MeteorCrater_vizDEM.png)"
      ],
      "metadata": {
        "id": "wkJqun7umRRk"
      }
    },
    {
      "cell_type": "markdown",
      "source": [
        "## **Produce a `.stl` file for 3D printing**"
      ],
      "metadata": {
        "id": "1_9kgv7nWPi0"
      }
    },
    {
      "cell_type": "markdown",
      "source": [
        "- Used the DEMto3D tool in QGIS\n",
        "- Use the DEM downloaded from OpenLandform Catalog\n",
        "- Manually choose your extent of your area of interest\n",
        "- Set the spacing to 2mm, and the width to 125. This then populates the remaining parameters.\n",
        "- Calculate the height by subtracting 15 from the lowest point.\n",
        "- Export to a stl"
      ],
      "metadata": {
        "id": "s1fIk7zdWZF6"
      }
    },
    {
      "cell_type": "markdown",
      "source": [
        "[Describe the difference between the `.stl` file you created and the one from [OpenLandform Catalog](https://opentopography.org/learn/lidarlandforms)]\n",
        "\n",
        "- The most likely difference between the .stl file we created and those from opentopography was spatial extent which we both defined slightly differently\n",
        "- Due to the relative uniform pattern of the location there are minimal vertical points of variation"
      ],
      "metadata": {
        "id": "WmMUhTQdYBTF"
      }
    },
    {
      "cell_type": "markdown",
      "source": [
        "## **Our 3D printing job**"
      ],
      "metadata": {
        "id": "Xk20_LAdXpEh"
      }
    },
    {
      "cell_type": "markdown",
      "source": [
        "- Below is a picture showing our 3D printing job"
      ],
      "metadata": {
        "id": "JRnEd58fXvbD"
      }
    },
    {
      "cell_type": "markdown",
      "source": [
        "```markdown\n",
        "https://drive.google.com/file/d/1u-36F-8_4rDQFOsuHs45Va5Lg-tsbuVg/view?usp=sharing\n",
        "```\n",
        "\n",
        "- After finishing the two steps below, a link can be created to correctly rendered in Google Colab\n",
        "  - Deleted **`/view?usp=sharing`** at the end of the link\n",
        "  - Replaced **`/file/d/`** with **`/uc?export=view&id=`**\n",
        "\n",
        "```markdown\n",
        "https://drive.google.com/uc?export=view&id=1u-36F-8_4rDQFOsuHs45Va5Lg-tsbuVg\n",
        "```\n",
        "\n",
        "- The map can be inserted in Google Colab following the syntax [from here](https://www.markdownguide.org/cheat-sheet/)\n",
        "\n",
        "```markdown\n",
        "Insert the picture here using syntax:\n",
        "![3D printing](https://drive.google.com/uc?export=view&id=1u-36F-8_4rDQFOsuHs45Va5Lg-tsbuVg)\n",
        "```\n",
        "\n",
        "![3D printing](https://drive.google.com/uc?export=view&id=1u-36F-8_4rDQFOsuHs45Va5Lg-tsbuVg)"
      ],
      "metadata": {
        "id": "CTzTj_VIWrDj"
      }
    },
    {
      "cell_type": "markdown",
      "source": [
        "## **Save and share this notebook**\n",
        "\n",
        "- Make this notebook viewable by anyone with the link and submit the link to Canvas as Week 11 assignment"
      ],
      "metadata": {
        "id": "kkgukjDcXsqC"
      }
    },
    {
      "cell_type": "markdown",
      "source": [
        "## **Reference**\n",
        "\n",
        "- [Markdown cheat sheet](https://www.markdownguide.org/cheat-sheet/)\n",
        "- [Insert other references]"
      ],
      "metadata": {
        "id": "fvMbEX89YLeY"
      }
    }
  ]
}